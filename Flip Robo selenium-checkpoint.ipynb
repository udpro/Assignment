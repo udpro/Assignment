{
 "cells": [
  {
   "cell_type": "code",
   "execution_count": 8,
   "id": "874712ed",
   "metadata": {},
   "outputs": [
    {
     "name": "stdout",
     "output_type": "stream",
     "text": [
      "Requirement already satisfied: selenium in c:\\users\\deshmukh\\anaconda3\\lib\\site-packages (4.8.2)\n",
      "Requirement already satisfied: trio-websocket~=0.9 in c:\\users\\deshmukh\\anaconda3\\lib\\site-packages (from selenium) (0.9.2)\n",
      "Requirement already satisfied: certifi>=2021.10.8 in c:\\users\\deshmukh\\anaconda3\\lib\\site-packages (from selenium) (2022.9.14)\n",
      "Requirement already satisfied: urllib3[socks]~=1.26 in c:\\users\\deshmukh\\anaconda3\\lib\\site-packages (from selenium) (1.26.11)\n",
      "Requirement already satisfied: trio~=0.17 in c:\\users\\deshmukh\\anaconda3\\lib\\site-packages (from selenium) (0.22.0)\n",
      "Requirement already satisfied: sortedcontainers in c:\\users\\deshmukh\\anaconda3\\lib\\site-packages (from trio~=0.17->selenium) (2.4.0)\n",
      "Requirement already satisfied: attrs>=19.2.0 in c:\\users\\deshmukh\\anaconda3\\lib\\site-packages (from trio~=0.17->selenium) (21.4.0)\n",
      "Requirement already satisfied: idna in c:\\users\\deshmukh\\anaconda3\\lib\\site-packages (from trio~=0.17->selenium) (3.3)\n",
      "Requirement already satisfied: outcome in c:\\users\\deshmukh\\anaconda3\\lib\\site-packages (from trio~=0.17->selenium) (1.2.0)\n",
      "Requirement already satisfied: async-generator>=1.9 in c:\\users\\deshmukh\\anaconda3\\lib\\site-packages (from trio~=0.17->selenium) (1.10)\n",
      "Requirement already satisfied: sniffio in c:\\users\\deshmukh\\anaconda3\\lib\\site-packages (from trio~=0.17->selenium) (1.2.0)\n",
      "Requirement already satisfied: cffi>=1.14 in c:\\users\\deshmukh\\anaconda3\\lib\\site-packages (from trio~=0.17->selenium) (1.15.1)\n",
      "Requirement already satisfied: exceptiongroup>=1.0.0rc9 in c:\\users\\deshmukh\\anaconda3\\lib\\site-packages (from trio~=0.17->selenium) (1.1.0)\n",
      "Requirement already satisfied: wsproto>=0.14 in c:\\users\\deshmukh\\anaconda3\\lib\\site-packages (from trio-websocket~=0.9->selenium) (1.2.0)\n",
      "Requirement already satisfied: PySocks!=1.5.7,<2.0,>=1.5.6 in c:\\users\\deshmukh\\anaconda3\\lib\\site-packages (from urllib3[socks]~=1.26->selenium) (1.7.1)\n",
      "Requirement already satisfied: pycparser in c:\\users\\deshmukh\\anaconda3\\lib\\site-packages (from cffi>=1.14->trio~=0.17->selenium) (2.21)\n",
      "Requirement already satisfied: h11<1,>=0.9.0 in c:\\users\\deshmukh\\anaconda3\\lib\\site-packages (from wsproto>=0.14->trio-websocket~=0.9->selenium) (0.14.0)\n"
     ]
    }
   ],
   "source": [
    "!pip install selenium"
   ]
  },
  {
   "cell_type": "code",
   "execution_count": 9,
   "id": "0de1be12",
   "metadata": {},
   "outputs": [],
   "source": [
    "import selenium\n",
    "import pandas as pd\n",
    "from selenium import webdriver"
   ]
  },
  {
   "cell_type": "code",
   "execution_count": 12,
   "id": "e5f33872",
   "metadata": {},
   "outputs": [],
   "source": [
    "driver=webdriver.Chrome()\n",
    "driver.get('https://www.naukri.com/')"
   ]
  },
  {
   "cell_type": "code",
   "execution_count": null,
   "id": "7a6b35ce",
   "metadata": {},
   "outputs": [],
   "source": [
    "search_job=driver.find_element_by_id('qsb-keyword-sugg')\n",
    "search_job"
   ]
  },
  {
   "cell_type": "code",
   "execution_count": null,
   "id": "aa9b3a6e",
   "metadata": {},
   "outputs": [],
   "source": [
    "search_job.send_keys(\"Data Analyst\")"
   ]
  },
  {
   "cell_type": "code",
   "execution_count": null,
   "id": "896cedc7",
   "metadata": {},
   "outputs": [],
   "source": [
    "search_loc=driver.find_element_by_id(\"qsb-location-sugg\")\n",
    "search_loc.send_keys(\"Bangalore\")"
   ]
  },
  {
   "cell_type": "code",
   "execution_count": null,
   "id": "b5959e14",
   "metadata": {},
   "outputs": [],
   "source": [
    "search_btn=driver.find_element_by_xpath(\"//button[@class='btn']\")\n",
    "search_btn"
   ]
  },
  {
   "cell_type": "code",
   "execution_count": null,
   "id": "af11294d",
   "metadata": {},
   "outputs": [],
   "source": [
    "search_btn.click()"
   ]
  },
  {
   "cell_type": "code",
   "execution_count": null,
   "id": "88221e1f",
   "metadata": {},
   "outputs": [],
   "source": [
    "title_tags=driver.find_elements_by_xpath(\"//a[@class='title fw500 ellipsis']\")\n",
    "title_tags"
   ]
  },
  {
   "cell_type": "code",
   "execution_count": null,
   "id": "ccccadff",
   "metadata": {},
   "outputs": [],
   "source": [
    "job_titles=[]\n",
    "for i in title_tags:\n",
    "     job_titles.append(i.text) \n",
    "job_titles"
   ]
  },
  {
   "cell_type": "code",
   "execution_count": null,
   "id": "86af9288",
   "metadata": {},
   "outputs": [],
   "source": [
    "location_tags=driver.find_elements_by_xpath(\"//li[@class='fleft grey-text br2 placeHolderLi location']//span[1]\")\n",
    "location_tags"
   ]
  },
  {
   "cell_type": "code",
   "execution_count": null,
   "id": "84f35a4a",
   "metadata": {},
   "outputs": [],
   "source": [
    "locations_list=[]\n",
    "for i in location_tags:\n",
    "    locations_list.append(i.text)\n",
    "locations_list"
   ]
  },
  {
   "cell_type": "code",
   "execution_count": null,
   "id": "5e454fb9",
   "metadata": {},
   "outputs": [],
   "source": [
    "company_tags=driver.find_elements_by_xpath(\"//a[@class='subTitle ellipsis fleft']\")\n",
    "company_tags"
   ]
  },
  {
   "cell_type": "code",
   "execution_count": null,
   "id": "2782d88b",
   "metadata": {},
   "outputs": [],
   "source": [
    "company_names=[]\n",
    "for i in company_tags:\n",
    "    company_names.append(i.text)\n",
    "company_names"
   ]
  },
  {
   "cell_type": "code",
   "execution_count": null,
   "id": "0863c65f",
   "metadata": {},
   "outputs": [],
   "source": [
    "experience_tags=driver.find_elements_by_xpath(\"//li[@class='fleft grey-text br2 placeHolderLi experience']//span\")\n",
    "experience_tags"
   ]
  },
  {
   "cell_type": "code",
   "execution_count": null,
   "id": "2687548d",
   "metadata": {},
   "outputs": [],
   "source": [
    "experience_list=[]\n",
    "for i in experience_tags:\n",
    "    experience_list.append(i.text)\n",
    "experience_list"
   ]
  },
  {
   "cell_type": "code",
   "execution_count": null,
   "id": "a5061912",
   "metadata": {},
   "outputs": [],
   "source": [
    "print(len(job_titles),len(locations_list),len(company_names),len(experience_list))"
   ]
  },
  {
   "cell_type": "code",
   "execution_count": null,
   "id": "ba1cb477",
   "metadata": {},
   "outputs": [],
   "source": [
    "Data_Analyst=pd.DataFrame({})\n",
    "Data_Analyst['title']=job_titles\n",
    "Data_Analyst['company']=company_names\n",
    "Data_Analyst['experience_required']=experience_list\n",
    "Data_Analyst['location']=locations_list"
   ]
  },
  {
   "cell_type": "code",
   "execution_count": 17,
   "id": "146f13ed",
   "metadata": {},
   "outputs": [
    {
     "data": {
      "text/html": [
       "<div>\n",
       "<style scoped>\n",
       "    .dataframe tbody tr th:only-of-type {\n",
       "        vertical-align: middle;\n",
       "    }\n",
       "\n",
       "    .dataframe tbody tr th {\n",
       "        vertical-align: top;\n",
       "    }\n",
       "\n",
       "    .dataframe thead th {\n",
       "        text-align: right;\n",
       "    }\n",
       "</style>\n",
       "<table border=\"1\" class=\"dataframe\">\n",
       "  <thead>\n",
       "    <tr style=\"text-align: right;\">\n",
       "      <th></th>\n",
       "    </tr>\n",
       "  </thead>\n",
       "  <tbody>\n",
       "  </tbody>\n",
       "</table>\n",
       "</div>"
      ],
      "text/plain": [
       "Empty DataFrame\n",
       "Columns: []\n",
       "Index: []"
      ]
     },
     "execution_count": 17,
     "metadata": {},
     "output_type": "execute_result"
    }
   ],
   "source": [
    "df=pd.DataFrame(Data_Analyst)\n",
    "df=df.iloc[0:10]\n",
    "df"
   ]
  },
  {
   "cell_type": "code",
   "execution_count": null,
   "id": "14e204cb",
   "metadata": {},
   "outputs": [],
   "source": [
    "from selenium import webdriver\n",
    "import os\n",
    "import pandas as pd\n",
    "from time import sleep\n",
    "import time \n",
    "import warnings\n",
    "warnings.filterwarnings(\"ignore\")"
   ]
  },
  {
   "cell_type": "code",
   "execution_count": null,
   "id": "15d03b0d",
   "metadata": {},
   "outputs": [],
   "source": [
    "driver= webdriver.Chrome( \"chromedriver.exe \")"
   ]
  },
  {
   "cell_type": "code",
   "execution_count": null,
   "id": "3241ef8a",
   "metadata": {},
   "outputs": [],
   "source": [
    "url='https://www.naukri.com/'\n",
    "driver.get(url)"
   ]
  },
  {
   "cell_type": "code",
   "execution_count": null,
   "id": "83a55b29",
   "metadata": {},
   "outputs": [],
   "source": [
    "search_job=driver.find_element_by_id('qsb-keyword-sugg')\n",
    "search_job"
   ]
  },
  {
   "cell_type": "code",
   "execution_count": null,
   "id": "665bd306",
   "metadata": {},
   "outputs": [],
   "source": [
    "search_job.send_keys(\"Data Scientist\")"
   ]
  },
  {
   "cell_type": "code",
   "execution_count": null,
   "id": "faa31db6",
   "metadata": {},
   "outputs": [],
   "source": [
    "search_loc=driver.find_element_by_id(\"qsb-location-sugg\")\n",
    "search_loc.send_keys(\"Bangalore\")"
   ]
  },
  {
   "cell_type": "code",
   "execution_count": null,
   "id": "d0e497dd",
   "metadata": {},
   "outputs": [],
   "source": [
    "search_btn=driver.find_element_by_xpath(\"//button[@class='btn']\")\n",
    "search_btn"
   ]
  },
  {
   "cell_type": "code",
   "execution_count": null,
   "id": "c2ecaf38",
   "metadata": {},
   "outputs": [],
   "source": [
    "search_btn.click()"
   ]
  },
  {
   "cell_type": "code",
   "execution_count": null,
   "id": "a02160e2",
   "metadata": {},
   "outputs": [],
   "source": [
    "title_tags=driver.find_elements_by_xpath(\"//a[@class='title fw500 ellipsis']\")\n",
    "title_tags"
   ]
  },
  {
   "cell_type": "code",
   "execution_count": null,
   "id": "257281e3",
   "metadata": {},
   "outputs": [],
   "source": [
    "job_titles=[]\n",
    "for i in title_tags:\n",
    "     job_titles.append(i.text) \n",
    "job_titles"
   ]
  },
  {
   "cell_type": "code",
   "execution_count": null,
   "id": "afd054e3",
   "metadata": {},
   "outputs": [],
   "source": [
    "location_tags=driver.find_elements_by_xpath(\"//li[@class='fleft grey-text br2 placeHolderLi location']//span[1]\")\n",
    "location_tags"
   ]
  },
  {
   "cell_type": "code",
   "execution_count": null,
   "id": "bc93629f",
   "metadata": {},
   "outputs": [],
   "source": [
    "locations_list=[]\n",
    "for i in location_tags:\n",
    "    locations_list.append(i.text)\n",
    "locations_list"
   ]
  },
  {
   "cell_type": "code",
   "execution_count": null,
   "id": "bf905f29",
   "metadata": {},
   "outputs": [],
   "source": [
    "company_tags=driver.find_elements_by_xpath(\"//a[@class='subTitle ellipsis fleft']\")\n",
    "company_tags"
   ]
  },
  {
   "cell_type": "code",
   "execution_count": null,
   "id": "59d81753",
   "metadata": {},
   "outputs": [],
   "source": [
    "company_names=[]\n",
    "for i in company_tags:\n",
    "    company_names.append(i.text)\n",
    "company_names"
   ]
  },
  {
   "cell_type": "code",
   "execution_count": null,
   "id": "816e805f",
   "metadata": {},
   "outputs": [],
   "source": [
    "experience_tags=driver.find_elements_by_xpath(\"//li[@class='fleft grey-text br2 placeHolderLi experience']//span\")\n",
    "experience_tags"
   ]
  },
  {
   "cell_type": "code",
   "execution_count": null,
   "id": "3fc5da70",
   "metadata": {},
   "outputs": [],
   "source": [
    "experience_list=[]\n",
    "for i in experience_tags:\n",
    "    experience_list.append(i.text)\n",
    "experience_list"
   ]
  },
  {
   "cell_type": "code",
   "execution_count": null,
   "id": "6e95f68a",
   "metadata": {},
   "outputs": [],
   "source": [
    "print(len(job_titles),len(locations_list),len(company_names),len(experience_list))"
   ]
  },
  {
   "cell_type": "code",
   "execution_count": null,
   "id": "1b4a0acc",
   "metadata": {},
   "outputs": [],
   "source": [
    "Data_Scientist=pd.DataFrame({})\n",
    "Data_Scientist['title']=job_titles\n",
    "Data_Scientist['company']=company_names\n",
    "Data_Scientist['experience_required']=experience_list\n",
    "Data_Scientist['location']=locations_list"
   ]
  },
  {
   "cell_type": "code",
   "execution_count": null,
   "id": "07b5ed39",
   "metadata": {},
   "outputs": [],
   "source": [
    "df=pd.DataFrame(Data_Scientist)\n",
    "df=df.iloc[0:10]\n",
    "df\n",
    "\n",
    "\t"
   ]
  },
  {
   "cell_type": "code",
   "execution_count": null,
   "id": "c2c3b7fc",
   "metadata": {},
   "outputs": [],
   "source": [
    "from selenium import webdriver\n",
    "import os\n",
    "import pandas as pd\n",
    "from time import sleep\n",
    "import time \n",
    "import warnings\n",
    "warnings.filterwarnings(\"ignore\")"
   ]
  },
  {
   "cell_type": "code",
   "execution_count": null,
   "id": "654f9c67",
   "metadata": {},
   "outputs": [],
   "source": [
    "driver= webdriver.Chrome( \"chromedriver.exe \")"
   ]
  },
  {
   "cell_type": "code",
   "execution_count": null,
   "id": "9c988799",
   "metadata": {},
   "outputs": [],
   "source": [
    "url='https://www.naukri.com/'\n",
    "driver.get(url)"
   ]
  },
  {
   "cell_type": "code",
   "execution_count": null,
   "id": "f33848d1",
   "metadata": {},
   "outputs": [],
   "source": [
    "search_job=driver.find_element_by_id('qsb-keyword-sugg')\n",
    "search_job"
   ]
  },
  {
   "cell_type": "code",
   "execution_count": null,
   "id": "4eba4391",
   "metadata": {},
   "outputs": [],
   "source": [
    "path = r\"C:\\Users\\Femina\\Downloads\\chromedriver_win32\\chromedriver.exe\"\n",
    "\n",
    "driver=webdriver.Chrome(path)\n",
    "my_page=driver.get('https://www.naukri.com/')\n",
    "\n",
    "Job_Title = []\n",
    "Location = []\n",
    "Company_Name = []\n",
    "Experience_Required = []\n",
    "\n",
    "time.sleep(4)\n",
    "driver.switch_to_window(driver.window_handles[1])\n",
    "driver.close()\n",
    "time.sleep(5)\n",
    "driver.switch_to_window(driver.window_handles[1])\n",
    "driver.close()\n",
    "time.sleep(5)\n",
    "driver.switch_to_window(driver.window_handles[0])\n",
    "time.sleep(5)\n",
    "Task2 =driver.find_element_by_xpath(\"//span[@class='fr geoLocBtn later']\")\n",
    "Task2.click()\n",
    "time.sleep(5)\n",
    "Task3=driver.find_element_by_xpath(\"//div[@class='privacyPolicy']/div//button\")\n",
    "Task3.click()\n",
    "time.sleep(3)\n",
    "Task4=driver.find_element_by_xpath(\"//div[@class='inpWrap']/input\")\n",
    "Task4.send_keys('Data Scientist')\n",
    "time.sleep(3)\n",
    "Task5=driver.find_element_by_xpath(\"//div[@class='suggestor-location']//input\")\n",
    "Task5.send_keys('Delhi/NCR')\n",
    "time.sleep(3)\n",
    "Task6=driver.find_element_by_xpath(\"//div[@class='qsb-main-content row']//button\")\n",
    "Task6.click()\n",
    "time.sleep(5)\n",
    "Task7=driver.find_element_by_xpath(\"//span[@title ='3-6 Lakhs']\")\n",
    "Task7.click()\n",
    "time.sleep(5)\n",
    "#Extracting Job Title data \n",
    "Task8 = driver.find_elements_by_xpath(\"//div[@class='jobTupleHeader']/div/a\")\n",
    "for aa in Task8:\n",
    "    bb  = aa.text\n",
    "    Job_Title.append(bb)\n",
    "    \n",
    "Job_Title = pd.DataFrame(Job_Title)\n",
    "Job_Title = Job_Title.rename({ 0 : 'Job Title'} , axis = 1 )\n",
    "\n",
    "\n",
    "time.sleep(5)\n",
    "\n",
    "# Extracting  company name \n",
    "Task9 = driver.find_elements_by_xpath(\"//div[@class='mt-7 companyInfo subheading lh16']/a[1]\")\n",
    "\n",
    "for cc in Task9:\n",
    "    kk = cc.text\n",
    "    Company_Name.append(kk)\n",
    "Company_Name\n",
    "\n",
    "Company_Name = pd.DataFrame(Company_Name)\n",
    "Company_Name= Company_Name.rename({0 : 'Company Name'}, axis=1  )\n",
    "\n",
    "time.sleep(5)\n",
    "\n",
    "# Extracting  Location Data\n",
    "Task10 = driver.find_elements_by_xpath(\"//li[@class='fleft grey-text br2 placeHolderLi location']//span\")\n",
    "for jj in Task10:\n",
    "    vv = jj.text\n",
    "    Location.append(vv)\n",
    "Location[0:5]\n",
    "\n",
    "Location =pd.DataFrame(Location)\n",
    "Location=Location.rename( columns = { 0 : 'Location'} )\n",
    "\n",
    "time.sleep(5)\n",
    "\n",
    "# Extracting  Experience required data \n",
    "Task11= driver.find_elements_by_xpath(\"//li[@class='fleft grey-text br2 placeHolderLi experience']//span\")\n",
    "for pp in Task11:\n",
    "    g = pp.text\n",
    "    Experience_Required.append(g)\n",
    "    \n",
    "Experience_Required = pd.DataFrame(Experience_Required)\n",
    "Experience_Required  = Experience_Required.rename(columns = { 0 : 'Experience'})\n",
    "\n",
    "\n",
    "#Extracting Final Data \n",
    "Naukri_Jobs = pd.concat([Job_Title,Company_Name,Location ,Experience_Required ] ,axis=1)\n",
    "Naukri_Jobs3 =Naukri_Jobs.iloc[0:10]\n",
    "Naukri_Jobs3"
   ]
  },
  {
   "cell_type": "code",
   "execution_count": null,
   "id": "ead22b70",
   "metadata": {},
   "outputs": [],
   "source": [
    "#loading Necessary Libraries\n",
    "import pandas as pd\n",
    "from selenium import webdriver\n",
    "from time import sleep\n",
    "import time \n",
    "import warnings\n",
    "warnings.filterwarnings(\"ignore\")\n",
    "\n",
    "import numpy as np\n",
    "import pandas as pd\n",
    "from  selenium import webdriver\n",
    "from time import sleep\n",
    "import warnings\n",
    "warnings.filterwarnings('ignore')\n",
    "import time\n",
    "import string\n",
    "from selenium.common.exceptions import StaleElementReferenceException, NoSuchElementException\n",
    "\n",
    "path =r\"C:\\Users\\Femina\\Downloads\\chromedriver_win32\\chromedriver.exe\"\n",
    "driver=webdriver.Chrome(path)\n",
    "my_page=driver.get('https://www.glassdoor.co.in/index.htm')\n",
    "\n",
    "\n",
    "\n",
    "Company_Name = []\n",
    "Job_Posting_Days = []\n",
    "Rating = []"
   ]
  },
  {
   "cell_type": "code",
   "execution_count": null,
   "id": "8caa738b",
   "metadata": {},
   "outputs": [],
   "source": [
    "time.sleep(5)\n",
    "Task2=driver.find_element_by_xpath(\"//button[@class='d-none d-lg-block p-0 LockedHomeHeaderStyles__signInButton']\")\n",
    "Task2.click()"
   ]
  },
  {
   "cell_type": "code",
   "execution_count": null,
   "id": "ca9a052d",
   "metadata": {},
   "outputs": [],
   "source": [
    "time.sleep(5)\n",
    "Task2=driver.find_element_by_xpath(\"//div[@class=' ezd297g0 css-1t9wuyr']/div/input[@id='userEmail']\")\n",
    "Task2.send_keys('susmita09@gmail.com')\n",
    "time.sleep(5)\n",
    "Task3=driver.find_element_by_xpath(\"//div[@class='input-wrapper css-q444d9']/input[@id='userPassword']\")\n",
    "Task3.send_keys('xyz12345')\n",
    "time.sleep(5)\n",
    "Task4=driver.find_element_by_xpath(\"//form[@name='emailSignInForm']/div[3]/div/button[@type='submit']\")\n",
    "Task4.click()\n",
    "time.sleep(5)"
   ]
  },
  {
   "cell_type": "code",
   "execution_count": null,
   "id": "ece92c08",
   "metadata": {},
   "outputs": [],
   "source": [
    "Task5 = driver.find_element_by_xpath(\"//input[@name='sc.keyword']\")\n",
    "Task5.send_keys('Data Scientist')\n",
    "time.sleep(5)"
   ]
  },
  {
   "cell_type": "code",
   "execution_count": null,
   "id": "37c77658",
   "metadata": {},
   "outputs": [],
   "source": [
    "Task6 = driver.find_element_by_xpath(\"//input[@id='LocationSearch']\").clear()\n",
    "time.sleep(3)\n",
    "Task6 = driver.find_element_by_xpath(\"//input[@id='LocationSearch']\")\n",
    "Task6.send_keys('Noida')"
   ]
  },
  {
   "cell_type": "code",
   "execution_count": null,
   "id": "2e6643f0",
   "metadata": {},
   "outputs": [],
   "source": [
    "time.sleep(5)\n",
    "Task7 =driver.find_element_by_xpath(\"//button[@class='gd-btn-mkt']\")\n",
    "Task7.click()\n",
    "time.sleep(5)"
   ]
  },
  {
   "cell_type": "code",
   "execution_count": null,
   "id": "a127443a",
   "metadata": {},
   "outputs": [],
   "source": [
    "Task8 = driver.find_elements_by_xpath(\"//div[@class='d-flex align-items-end pl-std css-mi55ob']\")\n",
    "\n",
    "for hy in Task8[0:10]:\n",
    "    se = hy.text\n",
    "    Job_Posting_Days.append(se)\n",
    "    \n",
    "Job_Posting_Days1 = pd.DataFrame(Job_Posting_Days)\n",
    "Days_Posted =Job_Posting_Days1.rename(columns = { 0 : 'Days Posted'})"
   ]
  },
  {
   "cell_type": "code",
   "execution_count": null,
   "id": "388d9a5f",
   "metadata": {},
   "outputs": [],
   "source": [
    "Task9 = driver.find_elements_by_xpath(\"//div[@class='d-flex justify-content-between align-items-start']/a/span\")\n",
    "\n",
    "for hy in Task9[0:10]:\n",
    "    se = hy.text\n",
    "    Company_Name.append(se)\n",
    "    \n",
    "Company_Name1 = pd.DataFrame(Company_Name)\n",
    "Company_Name1 =Company_Name1.rename(columns = { 0 : 'Company Name'})"
   ]
  },
  {
   "cell_type": "code",
   "execution_count": null,
   "id": "c2f013e3",
   "metadata": {},
   "outputs": [],
   "source": [
    "urls1=[i.get_attribute(\"href\")for i in driver.find_elements_by_xpath(\"//a[@class='jobLink css-1rd3saf eigr9kq2']\")]\n",
    "for url1 in urls1[0:10]:\n",
    "    driver.get(url1)\n",
    "    time.sleep(5)\n",
    "\n",
    "\n",
    "    try:\n",
    "        Task2 = driver.find_element_by_xpath(\"//span[@class='css-1pmc6te e11nt52q4']\").text\n",
    "    \n",
    "        Rating.append(Task2)\n",
    "    except NoSuchElementException: \n",
    "        Rating.append('No Rating')"
   ]
  },
  {
   "cell_type": "code",
   "execution_count": null,
   "id": "0a5cc883",
   "metadata": {},
   "outputs": [],
   "source": [
    "Rating4 = []"
   ]
  },
  {
   "cell_type": "code",
   "execution_count": null,
   "id": "0b32f2b4",
   "metadata": {},
   "outputs": [],
   "source": [
    "for i  in Rating:\n",
    "    g= i.replace('\\n★','')\n",
    "    Rating4.append(g)"
   ]
  },
  {
   "cell_type": "code",
   "execution_count": null,
   "id": "20d4138c",
   "metadata": {},
   "outputs": [],
   "source": [
    "Rating4 = pd.DataFrame(Rating4)\n",
    "Rating4 =Rating4.rename(columns = { 0 : 'Rating'})"
   ]
  },
  {
   "cell_type": "code",
   "execution_count": null,
   "id": "d0f7c0ba",
   "metadata": {},
   "outputs": [],
   "source": [
    "Data_Scientist_Glassdoor  = pd.concat([Company_Name1 ,Days_Posted1 , Rating4] , axis=1)\n",
    "Data_Scientist_Glassdoor"
   ]
  },
  {
   "cell_type": "code",
   "execution_count": null,
   "id": "baabf608",
   "metadata": {},
   "outputs": [],
   "source": []
  },
  {
   "cell_type": "code",
   "execution_count": null,
   "id": "0eca79ed",
   "metadata": {},
   "outputs": [],
   "source": []
  },
  {
   "cell_type": "code",
   "execution_count": null,
   "id": "d8f309fb",
   "metadata": {},
   "outputs": [],
   "source": []
  },
  {
   "cell_type": "code",
   "execution_count": null,
   "id": "e05051c7",
   "metadata": {},
   "outputs": [],
   "source": []
  },
  {
   "cell_type": "code",
   "execution_count": null,
   "id": "e5224e91",
   "metadata": {},
   "outputs": [],
   "source": []
  },
  {
   "cell_type": "code",
   "execution_count": null,
   "id": "aa3abfa6",
   "metadata": {},
   "outputs": [],
   "source": []
  },
  {
   "cell_type": "code",
   "execution_count": null,
   "id": "400df7fe",
   "metadata": {},
   "outputs": [],
   "source": []
  },
  {
   "cell_type": "code",
   "execution_count": null,
   "id": "6311c804",
   "metadata": {},
   "outputs": [],
   "source": []
  },
  {
   "cell_type": "code",
   "execution_count": null,
   "id": "af315de8",
   "metadata": {},
   "outputs": [],
   "source": []
  },
  {
   "cell_type": "code",
   "execution_count": null,
   "id": "c403af04",
   "metadata": {},
   "outputs": [],
   "source": []
  },
  {
   "cell_type": "code",
   "execution_count": null,
   "id": "28f6bcf6",
   "metadata": {},
   "outputs": [],
   "source": []
  }
 ],
 "metadata": {
  "kernelspec": {
   "display_name": "Python 3 (ipykernel)",
   "language": "python",
   "name": "python3"
  },
  "language_info": {
   "codemirror_mode": {
    "name": "ipython",
    "version": 3
   },
   "file_extension": ".py",
   "mimetype": "text/x-python",
   "name": "python",
   "nbconvert_exporter": "python",
   "pygments_lexer": "ipython3",
   "version": "3.9.13"
  }
 },
 "nbformat": 4,
 "nbformat_minor": 5
}
